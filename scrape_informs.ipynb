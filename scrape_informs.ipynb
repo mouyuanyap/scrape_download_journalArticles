{
 "cells": [
  {
   "cell_type": "code",
   "execution_count": 1,
   "metadata": {},
   "outputs": [
    {
     "name": "stdout",
     "output_type": "stream",
     "text": [
      "Requirement already satisfied: selenium==4.9.1 in /Users/mouyuanyap/.pyenv/versions/3.8.13/lib/python3.8/site-packages (4.9.1)\n",
      "Requirement already satisfied: undetected_chromedriver in /Users/mouyuanyap/.pyenv/versions/3.8.13/lib/python3.8/site-packages (3.0.6)\n",
      "Requirement already satisfied: selenium_stealth in /Users/mouyuanyap/.pyenv/versions/3.8.13/lib/python3.8/site-packages (1.0.6)\n",
      "Requirement already satisfied: random_user_agent in /Users/mouyuanyap/.pyenv/versions/3.8.13/lib/python3.8/site-packages (1.0.1)\n",
      "Requirement already satisfied: webdriver_manager in /Users/mouyuanyap/.pyenv/versions/3.8.13/lib/python3.8/site-packages (3.9.1)\n",
      "Requirement already satisfied: urllib3[socks]<3,>=1.26 in /Users/mouyuanyap/.pyenv/versions/3.8.13/lib/python3.8/site-packages (from selenium==4.9.1) (1.26.16)\n",
      "Requirement already satisfied: trio~=0.17 in /Users/mouyuanyap/.pyenv/versions/3.8.13/lib/python3.8/site-packages (from selenium==4.9.1) (0.22.2)\n",
      "Requirement already satisfied: trio-websocket~=0.9 in /Users/mouyuanyap/.pyenv/versions/3.8.13/lib/python3.8/site-packages (from selenium==4.9.1) (0.10.3)\n",
      "Requirement already satisfied: certifi>=2021.10.8 in /Users/mouyuanyap/.pyenv/versions/3.8.13/lib/python3.8/site-packages (from selenium==4.9.1) (2023.5.7)\n",
      "Requirement already satisfied: requests in /Users/mouyuanyap/.pyenv/versions/3.8.13/lib/python3.8/site-packages (from undetected_chromedriver) (2.31.0)\n",
      "Requirement already satisfied: websockets in /Users/mouyuanyap/.pyenv/versions/3.8.13/lib/python3.8/site-packages (from undetected_chromedriver) (11.0.3)\n",
      "Requirement already satisfied: python-dotenv in /Users/mouyuanyap/.pyenv/versions/3.8.13/lib/python3.8/site-packages (from webdriver_manager) (1.0.0)\n",
      "Requirement already satisfied: packaging in /Users/mouyuanyap/.pyenv/versions/3.8.13/lib/python3.8/site-packages (from webdriver_manager) (23.1)\n",
      "Requirement already satisfied: attrs>=20.1.0 in /Users/mouyuanyap/.pyenv/versions/3.8.13/lib/python3.8/site-packages (from trio~=0.17->selenium==4.9.1) (23.1.0)\n",
      "Requirement already satisfied: sortedcontainers in /Users/mouyuanyap/.pyenv/versions/3.8.13/lib/python3.8/site-packages (from trio~=0.17->selenium==4.9.1) (2.4.0)\n",
      "Requirement already satisfied: idna in /Users/mouyuanyap/.pyenv/versions/3.8.13/lib/python3.8/site-packages (from trio~=0.17->selenium==4.9.1) (3.4)\n",
      "Requirement already satisfied: outcome in /Users/mouyuanyap/.pyenv/versions/3.8.13/lib/python3.8/site-packages (from trio~=0.17->selenium==4.9.1) (1.2.0)\n",
      "Requirement already satisfied: sniffio in /Users/mouyuanyap/.pyenv/versions/3.8.13/lib/python3.8/site-packages (from trio~=0.17->selenium==4.9.1) (1.3.0)\n",
      "Requirement already satisfied: exceptiongroup>=1.0.0rc9 in /Users/mouyuanyap/.pyenv/versions/3.8.13/lib/python3.8/site-packages (from trio~=0.17->selenium==4.9.1) (1.1.2)\n",
      "Requirement already satisfied: wsproto>=0.14 in /Users/mouyuanyap/.pyenv/versions/3.8.13/lib/python3.8/site-packages (from trio-websocket~=0.9->selenium==4.9.1) (1.2.0)\n",
      "Requirement already satisfied: PySocks!=1.5.7,<2.0,>=1.5.6 in /Users/mouyuanyap/.pyenv/versions/3.8.13/lib/python3.8/site-packages (from urllib3[socks]<3,>=1.26->selenium==4.9.1) (1.7.1)\n",
      "Requirement already satisfied: charset-normalizer<4,>=2 in /Users/mouyuanyap/.pyenv/versions/3.8.13/lib/python3.8/site-packages (from requests->undetected_chromedriver) (3.1.0)\n",
      "Requirement already satisfied: h11<1,>=0.9.0 in /Users/mouyuanyap/.pyenv/versions/3.8.13/lib/python3.8/site-packages (from wsproto>=0.14->trio-websocket~=0.9->selenium==4.9.1) (0.14.0)\n",
      "\n",
      "\u001b[1m[\u001b[0m\u001b[34;49mnotice\u001b[0m\u001b[1;39;49m]\u001b[0m\u001b[39;49m A new release of pip is available: \u001b[0m\u001b[31;49m23.1.2\u001b[0m\u001b[39;49m -> \u001b[0m\u001b[32;49m23.2.1\u001b[0m\n",
      "\u001b[1m[\u001b[0m\u001b[34;49mnotice\u001b[0m\u001b[1;39;49m]\u001b[0m\u001b[39;49m To update, run: \u001b[0m\u001b[32;49mpip install --upgrade pip\u001b[0m\n"
     ]
    }
   ],
   "source": [
    "!pip install selenium==4.9.1 undetected_chromedriver selenium_stealth random_user_agent webdriver_manager"
   ]
  },
  {
   "cell_type": "code",
   "execution_count": 1,
   "metadata": {},
   "outputs": [],
   "source": [
    "# from selenium import webdriver\n",
    "from selenium.webdriver.common.keys import Keys\n",
    "from selenium_stealth import stealth\n",
    "from random_user_agent.user_agent import UserAgent\n",
    "from random_user_agent.params import SoftwareName, OperatingSystem\n",
    "from webdriver_manager.chrome import ChromeDriverManager\n",
    "import json\n",
    "import os\n",
    "import tempfile\n",
    "from functools import reduce\n",
    "import undetected_chromedriver as uc \n",
    "import time \n",
    "import undetected_chromedriver as webdriver\n",
    "\n",
    "class ChromeWithPrefs(webdriver.Chrome):\n",
    "    def __init__(self, *args, options=None, **kwargs):\n",
    "        if options:\n",
    "            self._handle_prefs(options)\n",
    "\n",
    "        super().__init__(*args, options=options, **kwargs)\n",
    "\n",
    "        # remove the user_data_dir when quitting\n",
    "        self.keep_user_data_dir = False\n",
    "\n",
    "    @staticmethod\n",
    "    def _handle_prefs(options):\n",
    "        if prefs := options.experimental_options.get(\"prefs\"):\n",
    "            # turn a (dotted key, value) into a proper nested dict\n",
    "            def undot_key(key, value):\n",
    "                if \".\" in key:\n",
    "                    key, rest = key.split(\".\", 1)\n",
    "                    value = undot_key(rest, value)\n",
    "                return {key: value}\n",
    "\n",
    "            # undot prefs dict keys\n",
    "            undot_prefs = reduce(\n",
    "                lambda d1, d2: {**d1, **d2},  # merge dicts\n",
    "                (undot_key(key, value) for key, value in prefs.items()),\n",
    "            )\n",
    "\n",
    "            # create an user_data_dir and add its path to the options\n",
    "            user_data_dir = os.path.normpath(tempfile.mkdtemp())\n",
    "            options.add_argument(f\"--user-data-dir={user_data_dir}\")\n",
    "\n",
    "            # create the preferences json file in its default directory\n",
    "            default_dir = os.path.join(user_data_dir, \"Default\")\n",
    "            os.mkdir(default_dir)\n",
    "\n",
    "            prefs_file = os.path.join(default_dir, \"Preferences\")\n",
    "            with open(prefs_file, encoding=\"latin1\", mode=\"w\") as f:\n",
    "                json.dump(undot_prefs, f)\n",
    "\n",
    "            # pylint: disable=protected-access\n",
    "            # remove the experimental_options to avoid an error\n",
    "            del options._experimental_options[\"prefs\"]\n",
    "\n",
    "prefs = {\n",
    "\"download.default_directory\": \"./INFORMS/\", #Change default directory for downloads\n",
    "\"download.prompt_for_download\": False, #To auto download the file\n",
    "\"download.directory_upgrade\": True,\n",
    "\"plugins.always_open_pdf_externally\": True #It will not show PDF directly in chrome\n",
    "}\n",
    "options = webdriver.ChromeOptions()\n",
    "options.add_experimental_option(\"prefs\", prefs)\n",
    "options.add_argument(\"start-maximized\")\n",
    "options.add_argument(\"--disable-extensions\")\n",
    "options.add_argument('--disable-application-cache')\n",
    "options.add_argument('--disable-gpu')\n",
    "options.add_argument(\"--no-sandbox\")\n",
    "options.add_argument(\"--disable-setuid-sandbox\")\n",
    "options.add_argument(\"--disable-dev-shm-usage\")\n",
    "options2 = webdriver.ChromeOptions()\n",
    "options2.add_experimental_option(\"prefs\", prefs)\n",
    "options2.add_argument(\"start-maximized\")\n",
    "options2.add_argument(\"--disable-extensions\")\n",
    "options2.add_argument('--disable-application-cache')\n",
    "options2.add_argument('--disable-gpu')\n",
    "options2.add_argument(\"--no-sandbox\")\n",
    "options2.add_argument(\"--disable-setuid-sandbox\")\n",
    "options2.add_argument(\"--disable-dev-shm-usage\")\n",
    "# use the derived Chrome class that handles prefs\n",
    "wd2 = ChromeWithPrefs(options=options2)\n",
    "wd = ChromeWithPrefs(options=options)\n",
    "wd.get(\"https://pubsonline.informs.org/action/ssostart?idp=https%3A%2F%2Finforms.my.salesforce.com&redirectUri=%2Ftoc%2Fisre%2F32%2F1\")\n",
    "wd2.get(\"https://pubsonline.informs.org/action/ssostart?idp=https%3A%2F%2Finforms.my.salesforce.com&redirectUri=%2Ftoc%2Fisre%2F32%2F1\")"
   ]
  },
  {
   "cell_type": "code",
   "execution_count": 4,
   "metadata": {},
   "outputs": [
    {
     "ename": "WebDriverException",
     "evalue": "Message: unknown error: cannot determine loading status\nfrom unknown error: unhandled inspector error: {\"code\":-32000,\"message\":\"Inspected target navigated or closed\"}\n  (Session info: chrome=115.0.5790.114)\nStacktrace:\n0   chromedriver                        0x0000000104bf76b8 chromedriver + 4937400\n1   chromedriver                        0x0000000104beeb73 chromedriver + 4901747\n2   chromedriver                        0x00000001047ac616 chromedriver + 435734\n3   chromedriver                        0x00000001047943da chromedriver + 336858\n4   chromedriver                        0x00000001047921bd chromedriver + 328125\n5   chromedriver                        0x00000001047924fc chromedriver + 328956\n6   chromedriver                        0x00000001047a2209 chromedriver + 393737\n7   chromedriver                        0x00000001047a3612 chromedriver + 398866\n8   chromedriver                        0x00000001047b8784 chromedriver + 485252\n9   chromedriver                        0x00000001047be7db chromedriver + 509915\n10  chromedriver                        0x0000000104792a42 chromedriver + 330306\n11  chromedriver                        0x00000001047b847b chromedriver + 484475\n12  chromedriver                        0x000000010482f0bc chromedriver + 970940\n13  chromedriver                        0x0000000104813de3 chromedriver + 859619\n14  chromedriver                        0x00000001047e1d7f chromedriver + 654719\n15  chromedriver                        0x00000001047e30de chromedriver + 659678\n16  chromedriver                        0x0000000104bb32ad chromedriver + 4657837\n17  chromedriver                        0x0000000104bb8130 chromedriver + 4677936\n18  chromedriver                        0x0000000104bbedef chromedriver + 4705775\n19  chromedriver                        0x0000000104bb905a chromedriver + 4681818\n20  chromedriver                        0x0000000104b8b92c chromedriver + 4495660\n21  chromedriver                        0x0000000104bd6838 chromedriver + 4802616\n22  chromedriver                        0x0000000104bd69b7 chromedriver + 4802999\n23  chromedriver                        0x0000000104be799f chromedriver + 4872607\n24  libsystem_pthread.dylib             0x00007ff80ed4b1d3 _pthread_start + 125\n25  libsystem_pthread.dylib             0x00007ff80ed46bd3 thread_start + 15\n",
     "output_type": "error",
     "traceback": [
      "\u001b[0;31m---------------------------------------------------------------------------\u001b[0m",
      "\u001b[0;31mWebDriverException\u001b[0m                        Traceback (most recent call last)",
      "Cell \u001b[0;32mIn[4], line 7\u001b[0m\n\u001b[1;32m      5\u001b[0m wd \u001b[39m=\u001b[39m uc\u001b[39m.\u001b[39mChrome(options \u001b[39m=\u001b[39m option)\n\u001b[1;32m      6\u001b[0m \u001b[39m# wd2 = driver.get('https://pubsonline.informs.org/action/ssostart?idp=https%3A%2F%2Finforms.my.salesforce.com&redirectUri=%2Ftoc%2Fisre%2F32%2F1')\u001b[39;00m\n\u001b[0;32m----> 7\u001b[0m wd2\u001b[39m.\u001b[39;49mget(\u001b[39m'\u001b[39;49m\u001b[39mhttps://myaccount.informs.org/s/login/?startURL=\u001b[39;49m\u001b[39m%2F\u001b[39;49;00m\u001b[39midp\u001b[39;49m\u001b[39m%2F\u001b[39;49;00m\u001b[39mlogin\u001b[39;49m\u001b[39m%3F\u001b[39;49;00m\u001b[39mapp\u001b[39;49m\u001b[39m%\u001b[39;49m\u001b[39m3D0sp1U0000004DMU\u001b[39;49m\u001b[39m%\u001b[39;49m\u001b[39m26RelayState\u001b[39;49m\u001b[39m%\u001b[39;49m\u001b[39m3DSSOT_1094342302\u001b[39;49m\u001b[39m%\u001b[39;49m\u001b[39m26binding\u001b[39;49m\u001b[39m%\u001b[39;49m\u001b[39m3DHttpPost\u001b[39;49m\u001b[39m%26i\u001b[39;49;00m\u001b[39mnresponseto\u001b[39;49m\u001b[39m%\u001b[39;49m\u001b[39m3D_2651579261602307932\u001b[39;49m\u001b[39m'\u001b[39;49m)\n\u001b[1;32m      8\u001b[0m wd\u001b[39m.\u001b[39mget(\u001b[39m'\u001b[39m\u001b[39mhttps://myaccount.informs.org/s/login/?startURL=\u001b[39m\u001b[39m%2F\u001b[39;00m\u001b[39midp\u001b[39m\u001b[39m%2F\u001b[39;00m\u001b[39mlogin\u001b[39m\u001b[39m%3F\u001b[39;00m\u001b[39mapp\u001b[39m\u001b[39m%\u001b[39m\u001b[39m3D0sp1U0000004DMU\u001b[39m\u001b[39m%\u001b[39m\u001b[39m26RelayState\u001b[39m\u001b[39m%\u001b[39m\u001b[39m3DSSOT_1094342302\u001b[39m\u001b[39m%\u001b[39m\u001b[39m26binding\u001b[39m\u001b[39m%\u001b[39m\u001b[39m3DHttpPost\u001b[39m\u001b[39m%26i\u001b[39;00m\u001b[39mnresponseto\u001b[39m\u001b[39m%\u001b[39m\u001b[39m3D_2651579261602307932\u001b[39m\u001b[39m'\u001b[39m)\n",
      "File \u001b[0;32m~/.pyenv/versions/3.8.13/lib/python3.8/site-packages/undetected_chromedriver/__init__.py:84\u001b[0m, in \u001b[0;36mChrome.__new__.<locals>._get_wrapped\u001b[0;34m(*args, **kwargs)\u001b[0m\n\u001b[1;32m     62\u001b[0m \u001b[39mif\u001b[39;00m instance\u001b[39m.\u001b[39mexecute_script(\u001b[39m\"\u001b[39m\u001b[39mreturn navigator.webdriver\u001b[39m\u001b[39m\"\u001b[39m):\n\u001b[1;32m     63\u001b[0m     instance\u001b[39m.\u001b[39mexecute_cdp_cmd(\n\u001b[1;32m     64\u001b[0m         \u001b[39m\"\u001b[39m\u001b[39mPage.addScriptToEvaluateOnNewDocument\u001b[39m\u001b[39m\"\u001b[39m,\n\u001b[1;32m     65\u001b[0m         {\n\u001b[0;32m   (...)\u001b[0m\n\u001b[1;32m     82\u001b[0m         },\n\u001b[1;32m     83\u001b[0m     )\n\u001b[0;32m---> 84\u001b[0m \u001b[39mreturn\u001b[39;00m instance\u001b[39m.\u001b[39;49m_orig_get(\u001b[39m*\u001b[39;49margs, \u001b[39m*\u001b[39;49m\u001b[39m*\u001b[39;49mkwargs)\n",
      "File \u001b[0;32m~/.pyenv/versions/3.8.13/lib/python3.8/site-packages/selenium/webdriver/remote/webdriver.py:449\u001b[0m, in \u001b[0;36mWebDriver.get\u001b[0;34m(self, url)\u001b[0m\n\u001b[1;32m    447\u001b[0m \u001b[39mdef\u001b[39;00m \u001b[39mget\u001b[39m(\u001b[39mself\u001b[39m, url: \u001b[39mstr\u001b[39m) \u001b[39m-\u001b[39m\u001b[39m>\u001b[39m \u001b[39mNone\u001b[39;00m:\n\u001b[1;32m    448\u001b[0m \u001b[39m    \u001b[39m\u001b[39m\"\"\"Loads a web page in the current browser session.\"\"\"\u001b[39;00m\n\u001b[0;32m--> 449\u001b[0m     \u001b[39mself\u001b[39;49m\u001b[39m.\u001b[39;49mexecute(Command\u001b[39m.\u001b[39;49mGET, {\u001b[39m\"\u001b[39;49m\u001b[39murl\u001b[39;49m\u001b[39m\"\u001b[39;49m: url})\n",
      "File \u001b[0;32m~/.pyenv/versions/3.8.13/lib/python3.8/site-packages/selenium/webdriver/remote/webdriver.py:440\u001b[0m, in \u001b[0;36mWebDriver.execute\u001b[0;34m(self, driver_command, params)\u001b[0m\n\u001b[1;32m    438\u001b[0m response \u001b[39m=\u001b[39m \u001b[39mself\u001b[39m\u001b[39m.\u001b[39mcommand_executor\u001b[39m.\u001b[39mexecute(driver_command, params)\n\u001b[1;32m    439\u001b[0m \u001b[39mif\u001b[39;00m response:\n\u001b[0;32m--> 440\u001b[0m     \u001b[39mself\u001b[39;49m\u001b[39m.\u001b[39;49merror_handler\u001b[39m.\u001b[39;49mcheck_response(response)\n\u001b[1;32m    441\u001b[0m     response[\u001b[39m\"\u001b[39m\u001b[39mvalue\u001b[39m\u001b[39m\"\u001b[39m] \u001b[39m=\u001b[39m \u001b[39mself\u001b[39m\u001b[39m.\u001b[39m_unwrap_value(response\u001b[39m.\u001b[39mget(\u001b[39m\"\u001b[39m\u001b[39mvalue\u001b[39m\u001b[39m\"\u001b[39m, \u001b[39mNone\u001b[39;00m))\n\u001b[1;32m    442\u001b[0m     \u001b[39mreturn\u001b[39;00m response\n",
      "File \u001b[0;32m~/.pyenv/versions/3.8.13/lib/python3.8/site-packages/selenium/webdriver/remote/errorhandler.py:245\u001b[0m, in \u001b[0;36mErrorHandler.check_response\u001b[0;34m(self, response)\u001b[0m\n\u001b[1;32m    243\u001b[0m         alert_text \u001b[39m=\u001b[39m value[\u001b[39m\"\u001b[39m\u001b[39malert\u001b[39m\u001b[39m\"\u001b[39m]\u001b[39m.\u001b[39mget(\u001b[39m\"\u001b[39m\u001b[39mtext\u001b[39m\u001b[39m\"\u001b[39m)\n\u001b[1;32m    244\u001b[0m     \u001b[39mraise\u001b[39;00m exception_class(message, screen, stacktrace, alert_text)  \u001b[39m# type: ignore[call-arg]  # mypy is not smart enough here\u001b[39;00m\n\u001b[0;32m--> 245\u001b[0m \u001b[39mraise\u001b[39;00m exception_class(message, screen, stacktrace)\n",
      "\u001b[0;31mWebDriverException\u001b[0m: Message: unknown error: cannot determine loading status\nfrom unknown error: unhandled inspector error: {\"code\":-32000,\"message\":\"Inspected target navigated or closed\"}\n  (Session info: chrome=115.0.5790.114)\nStacktrace:\n0   chromedriver                        0x0000000104bf76b8 chromedriver + 4937400\n1   chromedriver                        0x0000000104beeb73 chromedriver + 4901747\n2   chromedriver                        0x00000001047ac616 chromedriver + 435734\n3   chromedriver                        0x00000001047943da chromedriver + 336858\n4   chromedriver                        0x00000001047921bd chromedriver + 328125\n5   chromedriver                        0x00000001047924fc chromedriver + 328956\n6   chromedriver                        0x00000001047a2209 chromedriver + 393737\n7   chromedriver                        0x00000001047a3612 chromedriver + 398866\n8   chromedriver                        0x00000001047b8784 chromedriver + 485252\n9   chromedriver                        0x00000001047be7db chromedriver + 509915\n10  chromedriver                        0x0000000104792a42 chromedriver + 330306\n11  chromedriver                        0x00000001047b847b chromedriver + 484475\n12  chromedriver                        0x000000010482f0bc chromedriver + 970940\n13  chromedriver                        0x0000000104813de3 chromedriver + 859619\n14  chromedriver                        0x00000001047e1d7f chromedriver + 654719\n15  chromedriver                        0x00000001047e30de chromedriver + 659678\n16  chromedriver                        0x0000000104bb32ad chromedriver + 4657837\n17  chromedriver                        0x0000000104bb8130 chromedriver + 4677936\n18  chromedriver                        0x0000000104bbedef chromedriver + 4705775\n19  chromedriver                        0x0000000104bb905a chromedriver + 4681818\n20  chromedriver                        0x0000000104b8b92c chromedriver + 4495660\n21  chromedriver                        0x0000000104bd6838 chromedriver + 4802616\n22  chromedriver                        0x0000000104bd69b7 chromedriver + 4802999\n23  chromedriver                        0x0000000104be799f chromedriver + 4872607\n24  libsystem_pthread.dylib             0x00007ff80ed4b1d3 _pthread_start + 125\n25  libsystem_pthread.dylib             0x00007ff80ed46bd3 thread_start + 15\n"
     ]
    }
   ],
   "source": [
    "import undetected_chromedriver as uc\n",
    "option =  uc.ChromeOptions()\n",
    "option.add_argument(\"--auto-open-devtools-for-tabs\")\n",
    "wd2 = uc.Chrome(options =option)\n",
    "wd = uc.Chrome(options = option)\n",
    "# wd2 = driver.get('https://pubsonline.informs.org/action/ssostart?idp=https%3A%2F%2Finforms.my.salesforce.com&redirectUri=%2Ftoc%2Fisre%2F32%2F1')\n",
    "wd2.get('https://myaccount.informs.org/s/login/?startURL=%2Fidp%2Flogin%3Fapp%3D0sp1U0000004DMU%26RelayState%3DSSOT_1094342302%26binding%3DHttpPost%26inresponseto%3D_2651579261602307932')\n",
    "wd.get('https://myaccount.informs.org/s/login/?startURL=%2Fidp%2Flogin%3Fapp%3D0sp1U0000004DMU%26RelayState%3DSSOT_1094342302%26binding%3DHttpPost%26inresponseto%3D_2651579261602307932')\n"
   ]
  },
  {
   "cell_type": "code",
   "execution_count": 5,
   "metadata": {},
   "outputs": [],
   "source": [
    "from selenium.webdriver.common.keys import Keys\n",
    "my_email = \"chunxiao@sjtu.edu.cn\"\n",
    "my_pword = \"SJTU080808\"\n",
    "#my_email = \"mouyuan4598@sjtu.edu.cn\"\n",
    "#my_pword = \"M0uyu@n4598\"\n",
    "\n",
    "email = wd2.find_element('id','48:2;a')\n",
    "pword = wd2.find_element('id',\"61:2;a\")\n",
    "\n",
    "\n",
    "email.clear()\n",
    "pword.clear()\n",
    "email.send_keys(my_email)\n",
    "pword.send_keys(my_pword)\n",
    "pword.send_keys(Keys.RETURN)"
   ]
  },
  {
   "cell_type": "markdown",
   "metadata": {},
   "source": [
    "For journal by journal"
   ]
  },
  {
   "cell_type": "code",
   "execution_count": 3,
   "metadata": {},
   "outputs": [
    {
     "name": "stdout",
     "output_type": "stream",
     "text": [
      "[<selenium.webdriver.remote.webelement.WebElement (session=\"a6442239f9f6776849be9115f915d07c\", element=\"3E7FBDA0E11BB63EC4D3B74A9D95FE42_element_1117\")>, <selenium.webdriver.remote.webelement.WebElement (session=\"a6442239f9f6776849be9115f915d07c\", element=\"3E7FBDA0E11BB63EC4D3B74A9D95FE42_element_1118\")>, <selenium.webdriver.remote.webelement.WebElement (session=\"a6442239f9f6776849be9115f915d07c\", element=\"3E7FBDA0E11BB63EC4D3B74A9D95FE42_element_1119\")>, <selenium.webdriver.remote.webelement.WebElement (session=\"a6442239f9f6776849be9115f915d07c\", element=\"3E7FBDA0E11BB63EC4D3B74A9D95FE42_element_1120\")>, <selenium.webdriver.remote.webelement.WebElement (session=\"a6442239f9f6776849be9115f915d07c\", element=\"3E7FBDA0E11BB63EC4D3B74A9D95FE42_element_1121\")>, <selenium.webdriver.remote.webelement.WebElement (session=\"a6442239f9f6776849be9115f915d07c\", element=\"3E7FBDA0E11BB63EC4D3B74A9D95FE42_element_1122\")>, <selenium.webdriver.remote.webelement.WebElement (session=\"a6442239f9f6776849be9115f915d07c\", element=\"3E7FBDA0E11BB63EC4D3B74A9D95FE42_element_1123\")>, <selenium.webdriver.remote.webelement.WebElement (session=\"a6442239f9f6776849be9115f915d07c\", element=\"3E7FBDA0E11BB63EC4D3B74A9D95FE42_element_1124\")>, <selenium.webdriver.remote.webelement.WebElement (session=\"a6442239f9f6776849be9115f915d07c\", element=\"3E7FBDA0E11BB63EC4D3B74A9D95FE42_element_1125\")>, <selenium.webdriver.remote.webelement.WebElement (session=\"a6442239f9f6776849be9115f915d07c\", element=\"3E7FBDA0E11BB63EC4D3B74A9D95FE42_element_1126\")>, <selenium.webdriver.remote.webelement.WebElement (session=\"a6442239f9f6776849be9115f915d07c\", element=\"3E7FBDA0E11BB63EC4D3B74A9D95FE42_element_1127\")>, <selenium.webdriver.remote.webelement.WebElement (session=\"a6442239f9f6776849be9115f915d07c\", element=\"3E7FBDA0E11BB63EC4D3B74A9D95FE42_element_1128\")>, <selenium.webdriver.remote.webelement.WebElement (session=\"a6442239f9f6776849be9115f915d07c\", element=\"3E7FBDA0E11BB63EC4D3B74A9D95FE42_element_1129\")>, <selenium.webdriver.remote.webelement.WebElement (session=\"a6442239f9f6776849be9115f915d07c\", element=\"3E7FBDA0E11BB63EC4D3B74A9D95FE42_element_1130\")>, <selenium.webdriver.remote.webelement.WebElement (session=\"a6442239f9f6776849be9115f915d07c\", element=\"3E7FBDA0E11BB63EC4D3B74A9D95FE42_element_1131\")>, <selenium.webdriver.remote.webelement.WebElement (session=\"a6442239f9f6776849be9115f915d07c\", element=\"3E7FBDA0E11BB63EC4D3B74A9D95FE42_element_1132\")>, <selenium.webdriver.remote.webelement.WebElement (session=\"a6442239f9f6776849be9115f915d07c\", element=\"3E7FBDA0E11BB63EC4D3B74A9D95FE42_element_1133\")>]\n",
      "[<selenium.webdriver.remote.webelement.WebElement (session=\"a6442239f9f6776849be9115f915d07c\", element=\"3E7FBDA0E11BB63EC4D3B74A9D95FE42_element_247\")>]\n",
      "https://pubsonline.informs.org/doi/abs/10.1287/mnsc.2013.1707 Management Insights\n"
     ]
    },
    {
     "ename": "NoSuchWindowException",
     "evalue": "Message: no such window: target window already closed\nfrom unknown error: web view not found\n  (Session info: chrome=115.0.5790.114)\nStacktrace:\n0   chromedriver                        0x0000000100b656b8 chromedriver + 4937400\n1   chromedriver                        0x0000000100b5cb73 chromedriver + 4901747\n2   chromedriver                        0x000000010071a616 chromedriver + 435734\n3   chromedriver                        0x00000001006ef58c chromedriver + 259468\n4   chromedriver                        0x000000010078764f chromedriver + 882255\n5   chromedriver                        0x000000010079c516 chromedriver + 967958\n6   chromedriver                        0x0000000100781de3 chromedriver + 859619\n7   chromedriver                        0x000000010074fd7f chromedriver + 654719\n8   chromedriver                        0x00000001007510de chromedriver + 659678\n9   chromedriver                        0x0000000100b212ad chromedriver + 4657837\n10  chromedriver                        0x0000000100b26130 chromedriver + 4677936\n11  chromedriver                        0x0000000100b2cdef chromedriver + 4705775\n12  chromedriver                        0x0000000100b2705a chromedriver + 4681818\n13  chromedriver                        0x0000000100af992c chromedriver + 4495660\n14  chromedriver                        0x0000000100b44838 chromedriver + 4802616\n15  chromedriver                        0x0000000100b449b7 chromedriver + 4802999\n16  chromedriver                        0x0000000100b5599f chromedriver + 4872607\n17  libsystem_pthread.dylib             0x00007ff80ed4b1d3 _pthread_start + 125\n18  libsystem_pthread.dylib             0x00007ff80ed46bd3 thread_start + 15\n",
     "output_type": "error",
     "traceback": [
      "\u001b[0;31m---------------------------------------------------------------------------\u001b[0m",
      "\u001b[0;31mNoSuchWindowException\u001b[0m                     Traceback (most recent call last)",
      "Cell \u001b[0;32mIn[3], line 43\u001b[0m\n\u001b[1;32m     41\u001b[0m wd2\u001b[39m.\u001b[39mget(link)\n\u001b[1;32m     42\u001b[0m time\u001b[39m.\u001b[39msleep(random\u001b[39m.\u001b[39mrandint(\u001b[39m3\u001b[39m,\u001b[39m5\u001b[39m))\n\u001b[0;32m---> 43\u001b[0m \u001b[39mprint\u001b[39m(wd2\u001b[39m.\u001b[39;49mpage_source)\n\u001b[1;32m     44\u001b[0m a \u001b[39m=\u001b[39m wd2\u001b[39m.\u001b[39mfind_elements(By\u001b[39m.\u001b[39mXPATH,\u001b[39m'\u001b[39m\u001b[39m//div[@class=\u001b[39m\u001b[39m\\'\u001b[39;00m\u001b[39mdownload_transportable cloned hidden-xs hidden-sm hidden-md\u001b[39m\u001b[39m\\'\u001b[39;00m\u001b[39m]/a\u001b[39m\u001b[39m'\u001b[39m)\n\u001b[1;32m     45\u001b[0m \u001b[39mprint\u001b[39m(a)\n",
      "File \u001b[0;32m~/.pyenv/versions/3.8.13/lib/python3.8/site-packages/selenium/webdriver/remote/webdriver.py:541\u001b[0m, in \u001b[0;36mWebDriver.page_source\u001b[0;34m(self)\u001b[0m\n\u001b[1;32m    532\u001b[0m \u001b[39m@property\u001b[39m\n\u001b[1;32m    533\u001b[0m \u001b[39mdef\u001b[39;00m \u001b[39mpage_source\u001b[39m(\u001b[39mself\u001b[39m) \u001b[39m-\u001b[39m\u001b[39m>\u001b[39m \u001b[39mstr\u001b[39m:\n\u001b[1;32m    534\u001b[0m \u001b[39m    \u001b[39m\u001b[39m\"\"\"Gets the source of the current page.\u001b[39;00m\n\u001b[1;32m    535\u001b[0m \n\u001b[1;32m    536\u001b[0m \u001b[39m    :Usage:\u001b[39;00m\n\u001b[0;32m   (...)\u001b[0m\n\u001b[1;32m    539\u001b[0m \u001b[39m            driver.page_source\u001b[39;00m\n\u001b[1;32m    540\u001b[0m \u001b[39m    \"\"\"\u001b[39;00m\n\u001b[0;32m--> 541\u001b[0m     \u001b[39mreturn\u001b[39;00m \u001b[39mself\u001b[39;49m\u001b[39m.\u001b[39;49mexecute(Command\u001b[39m.\u001b[39;49mGET_PAGE_SOURCE)[\u001b[39m\"\u001b[39m\u001b[39mvalue\u001b[39m\u001b[39m\"\u001b[39m]\n",
      "File \u001b[0;32m~/.pyenv/versions/3.8.13/lib/python3.8/site-packages/selenium/webdriver/remote/webdriver.py:440\u001b[0m, in \u001b[0;36mWebDriver.execute\u001b[0;34m(self, driver_command, params)\u001b[0m\n\u001b[1;32m    438\u001b[0m response \u001b[39m=\u001b[39m \u001b[39mself\u001b[39m\u001b[39m.\u001b[39mcommand_executor\u001b[39m.\u001b[39mexecute(driver_command, params)\n\u001b[1;32m    439\u001b[0m \u001b[39mif\u001b[39;00m response:\n\u001b[0;32m--> 440\u001b[0m     \u001b[39mself\u001b[39;49m\u001b[39m.\u001b[39;49merror_handler\u001b[39m.\u001b[39;49mcheck_response(response)\n\u001b[1;32m    441\u001b[0m     response[\u001b[39m\"\u001b[39m\u001b[39mvalue\u001b[39m\u001b[39m\"\u001b[39m] \u001b[39m=\u001b[39m \u001b[39mself\u001b[39m\u001b[39m.\u001b[39m_unwrap_value(response\u001b[39m.\u001b[39mget(\u001b[39m\"\u001b[39m\u001b[39mvalue\u001b[39m\u001b[39m\"\u001b[39m, \u001b[39mNone\u001b[39;00m))\n\u001b[1;32m    442\u001b[0m     \u001b[39mreturn\u001b[39;00m response\n",
      "File \u001b[0;32m~/.pyenv/versions/3.8.13/lib/python3.8/site-packages/selenium/webdriver/remote/errorhandler.py:245\u001b[0m, in \u001b[0;36mErrorHandler.check_response\u001b[0;34m(self, response)\u001b[0m\n\u001b[1;32m    243\u001b[0m         alert_text \u001b[39m=\u001b[39m value[\u001b[39m\"\u001b[39m\u001b[39malert\u001b[39m\u001b[39m\"\u001b[39m]\u001b[39m.\u001b[39mget(\u001b[39m\"\u001b[39m\u001b[39mtext\u001b[39m\u001b[39m\"\u001b[39m)\n\u001b[1;32m    244\u001b[0m     \u001b[39mraise\u001b[39;00m exception_class(message, screen, stacktrace, alert_text)  \u001b[39m# type: ignore[call-arg]  # mypy is not smart enough here\u001b[39;00m\n\u001b[0;32m--> 245\u001b[0m \u001b[39mraise\u001b[39;00m exception_class(message, screen, stacktrace)\n",
      "\u001b[0;31mNoSuchWindowException\u001b[0m: Message: no such window: target window already closed\nfrom unknown error: web view not found\n  (Session info: chrome=115.0.5790.114)\nStacktrace:\n0   chromedriver                        0x0000000100b656b8 chromedriver + 4937400\n1   chromedriver                        0x0000000100b5cb73 chromedriver + 4901747\n2   chromedriver                        0x000000010071a616 chromedriver + 435734\n3   chromedriver                        0x00000001006ef58c chromedriver + 259468\n4   chromedriver                        0x000000010078764f chromedriver + 882255\n5   chromedriver                        0x000000010079c516 chromedriver + 967958\n6   chromedriver                        0x0000000100781de3 chromedriver + 859619\n7   chromedriver                        0x000000010074fd7f chromedriver + 654719\n8   chromedriver                        0x00000001007510de chromedriver + 659678\n9   chromedriver                        0x0000000100b212ad chromedriver + 4657837\n10  chromedriver                        0x0000000100b26130 chromedriver + 4677936\n11  chromedriver                        0x0000000100b2cdef chromedriver + 4705775\n12  chromedriver                        0x0000000100b2705a chromedriver + 4681818\n13  chromedriver                        0x0000000100af992c chromedriver + 4495660\n14  chromedriver                        0x0000000100b44838 chromedriver + 4802616\n15  chromedriver                        0x0000000100b449b7 chromedriver + 4802999\n16  chromedriver                        0x0000000100b5599f chromedriver + 4872607\n17  libsystem_pthread.dylib             0x00007ff80ed4b1d3 _pthread_start + 125\n18  libsystem_pthread.dylib             0x00007ff80ed46bd3 thread_start + 15\n"
     ]
    }
   ],
   "source": [
    "import os,glob,time,random\n",
    "import warnings\n",
    "warnings.filterwarnings(\"ignore\")\n",
    "from selenium.webdriver.common.by import By\n",
    "\n",
    "# journal = 'isre'\n",
    "# volume = [24]\n",
    "# issue =[1,2,3,4]\n",
    "\n",
    "journal = 'mnsc'\n",
    "volume = [59]\n",
    "issue =[2,3,4,5,6]\n",
    "# issue = [12]\n",
    "\n",
    "# journal = 'mksc'\n",
    "# volume = [32]\n",
    "# issue =[1,2,3,4,5,6]\n",
    "\n",
    "\n",
    "base_folder = \"/Users/mouyuanyap/Downloads/\"\n",
    "#base_folder = \"C:\\\\Users\\\\mouyu\\\\Desktop\\\\INFORMS Journal\"\n",
    "\n",
    "for i in volume:\n",
    "    for j in issue:\n",
    "        directory = os.path.join(base_folder, \"Vol \" +str(i) + \" Issue \"+str(j))\n",
    "        if not os.path.exists(directory):   \n",
    "            os.makedirs(directory)\n",
    "\n",
    "        wd.get(\"https://pubsonline.informs.org/toc/{}/\".format(journal)+ str(i) +\"/\"+str(j))\n",
    "        time.sleep(random.randint(1,3))\n",
    "        # print(wd.page_source)\n",
    "        element =  wd.find_elements(By.XPATH,'/html[@class=\\'pb-page\\']/body[@class=\\'pb-ui website-informs-site\\']/div[@id=\\'pb-page-content\\']/div/main[@class=\\'content\\']/div[@class=\\'row separator\\']/div[@class=\\'container\\']/div[@class=\\'row\\']/div[@class=\\'col-lg-9 col-md-9 col-sm-8 col-xs-12\\']/div[@class=\\'toc_content row\\']/div[@class=\\'col-md-9 gutterless toc-separator sticko__side-content\\']/div[@class=\\'table-of-content\\']/div[@class=\\'issue-item\\']')\n",
    "        print(element)\n",
    "        for x in element:\n",
    "            \n",
    "            title = x.find_elements(By.XPATH,'.//h5[@class=\\'issue-item__title\\']/a')\n",
    "            print(title)\n",
    "            link = title[0].get_attribute(\"href\")\n",
    "            name = title[0].get_attribute(\"innerHTML\")\n",
    "            print(link,name)\n",
    "            wd2.get(link)\n",
    "            time.sleep(random.randint(3,5))\n",
    "            print(wd2.page_source)\n",
    "            a = wd2.find_elements(By.XPATH,'//div[@class=\\'download_transportable cloned hidden-xs hidden-sm hidden-md\\']/a')\n",
    "            print(a)\n",
    "            download_link = a[0].get_attribute('href').replace('epdf', 'pdf') + '?download=true'\n",
    "\n",
    "            print(download_link)\n",
    "            wd2.get(download_link)\n",
    "            time.sleep(25)\n",
    "\n",
    "            folder = glob.glob(os.path.join(base_folder,\"*\"))\n",
    "            latest_file = max(folder, key=os.path.getctime)\n",
    "            bad_letter =['/','\\\\',':','*','?','\\\"','<','>','|']\n",
    "            for aa in bad_letter:\n",
    "                name = name.replace(aa,',')\n",
    "            print(directory)\n",
    "            print(latest_file)\n",
    "            print(name)\n",
    "            \n",
    "            os.rename(latest_file,os.path.join(directory, latest_file[-18:-4]+'_' +name+\".pdf\"))\n",
    "\n",
    "        "
   ]
  },
  {
   "cell_type": "code",
   "execution_count": 53,
   "metadata": {},
   "outputs": [
    {
     "name": "stderr",
     "output_type": "stream",
     "text": [
      "INFO:undetected_chromedriver:Selenium patched. Safe to import Chrome / ChromeOptions\n",
      "INFO:undetected_chromedriver:Selenium patched. Safe to import Chrome / ChromeOptions\n",
      "DEBUG:selenium.webdriver.common.service:Started executable: `./chromedriver` in a child process with pid: 52336\n",
      "DEBUG:selenium.webdriver.remote.remote_connection:POST http://localhost:65508/session {\"capabilities\": {\"firstMatch\": [{}], \"alwaysMatch\": {\"browserName\": \"chrome\", \"pageLoadStrategy\": \"normal\", \"goog:chromeOptions\": {\"excludeSwitches\": [\"enable-automation\"], \"extensions\": [], \"args\": [\"start-maximized\", \"--disable-blink-features=AutomationControlled\", \"--disable-popup-blocking\", \"--ignore-certificate-errors\"]}}}}\n",
      "DEBUG:urllib3.connectionpool:Starting new HTTP connection (1): localhost:65508\n"
     ]
    },
    {
     "ename": "KeyboardInterrupt",
     "evalue": "",
     "output_type": "error",
     "traceback": [
      "\u001b[0;31m---------------------------------------------------------------------------\u001b[0m",
      "\u001b[0;31mKeyboardInterrupt\u001b[0m                         Traceback (most recent call last)",
      "Cell \u001b[0;32mIn[53], line 8\u001b[0m\n\u001b[1;32m      4\u001b[0m chrome_options\u001b[39m.\u001b[39madd_argument(\u001b[39m\"\u001b[39m\u001b[39m--disable-popup-blocking\u001b[39m\u001b[39m\"\u001b[39m)\n\u001b[1;32m      5\u001b[0m chrome_options\u001b[39m.\u001b[39madd_argument(\u001b[39m'\u001b[39m\u001b[39m--ignore-certificate-errors\u001b[39m\u001b[39m'\u001b[39m)\n\u001b[0;32m----> 8\u001b[0m driver \u001b[39m=\u001b[39m uc\u001b[39m.\u001b[39;49mChrome(options\u001b[39m=\u001b[39;49mchrome_options)\n\u001b[1;32m     10\u001b[0m url \u001b[39m=\u001b[39m \u001b[39m'\u001b[39m\u001b[39mhttps://nowsecure.nl/\u001b[39m\u001b[39m'\u001b[39m\n\u001b[1;32m     11\u001b[0m driver\u001b[39m.\u001b[39mget(url)\n",
      "File \u001b[0;32m~/.pyenv/versions/3.8.13/lib/python3.8/site-packages/undetected_chromedriver/__init__.py:57\u001b[0m, in \u001b[0;36mChrome.__new__\u001b[0;34m(cls, emulate_touch, *args, **kwargs)\u001b[0m\n\u001b[1;32m     55\u001b[0m     kwargs[\u001b[39m\"\u001b[39m\u001b[39moptions\u001b[39m\u001b[39m\"\u001b[39m] \u001b[39m=\u001b[39m ChromeOptions()\n\u001b[1;32m     56\u001b[0m instance \u001b[39m=\u001b[39m \u001b[39mobject\u001b[39m\u001b[39m.\u001b[39m\u001b[39m__new__\u001b[39m(_Chrome)\n\u001b[0;32m---> 57\u001b[0m instance\u001b[39m.\u001b[39;49m\u001b[39m__init__\u001b[39;49m(\u001b[39m*\u001b[39;49margs, \u001b[39m*\u001b[39;49m\u001b[39m*\u001b[39;49mkwargs)\n\u001b[1;32m     59\u001b[0m instance\u001b[39m.\u001b[39m_orig_get \u001b[39m=\u001b[39m instance\u001b[39m.\u001b[39mget\n\u001b[1;32m     61\u001b[0m \u001b[39mdef\u001b[39;00m \u001b[39m_get_wrapped\u001b[39m(\u001b[39m*\u001b[39margs, \u001b[39m*\u001b[39m\u001b[39m*\u001b[39mkwargs):\n",
      "File \u001b[0;32m~/.pyenv/versions/3.8.13/lib/python3.8/site-packages/selenium/webdriver/chrome/webdriver.py:84\u001b[0m, in \u001b[0;36mWebDriver.__init__\u001b[0;34m(self, executable_path, port, options, service_args, desired_capabilities, service_log_path, chrome_options, service, keep_alive)\u001b[0m\n\u001b[1;32m     81\u001b[0m     service \u001b[39m=\u001b[39m Service(executable_path, port, service_args, service_log_path)\n\u001b[1;32m     82\u001b[0m service\u001b[39m.\u001b[39mpath \u001b[39m=\u001b[39m DriverFinder\u001b[39m.\u001b[39mget_path(service, options)\n\u001b[0;32m---> 84\u001b[0m \u001b[39msuper\u001b[39;49m()\u001b[39m.\u001b[39;49m\u001b[39m__init__\u001b[39;49m(\n\u001b[1;32m     85\u001b[0m     DesiredCapabilities\u001b[39m.\u001b[39;49mCHROME[\u001b[39m\"\u001b[39;49m\u001b[39mbrowserName\u001b[39;49m\u001b[39m\"\u001b[39;49m],\n\u001b[1;32m     86\u001b[0m     \u001b[39m\"\u001b[39;49m\u001b[39mgoog\u001b[39;49m\u001b[39m\"\u001b[39;49m,\n\u001b[1;32m     87\u001b[0m     port,\n\u001b[1;32m     88\u001b[0m     options,\n\u001b[1;32m     89\u001b[0m     service_args,\n\u001b[1;32m     90\u001b[0m     desired_capabilities,\n\u001b[1;32m     91\u001b[0m     service_log_path,\n\u001b[1;32m     92\u001b[0m     service,\n\u001b[1;32m     93\u001b[0m     keep_alive,\n\u001b[1;32m     94\u001b[0m )\n",
      "File \u001b[0;32m~/.pyenv/versions/3.8.13/lib/python3.8/site-packages/selenium/webdriver/chromium/webdriver.py:104\u001b[0m, in \u001b[0;36mChromiumDriver.__init__\u001b[0;34m(self, browser_name, vendor_prefix, port, options, service_args, desired_capabilities, service_log_path, service, keep_alive)\u001b[0m\n\u001b[1;32m    101\u001b[0m \u001b[39mself\u001b[39m\u001b[39m.\u001b[39mservice\u001b[39m.\u001b[39mstart()\n\u001b[1;32m    103\u001b[0m \u001b[39mtry\u001b[39;00m:\n\u001b[0;32m--> 104\u001b[0m     \u001b[39msuper\u001b[39;49m()\u001b[39m.\u001b[39;49m\u001b[39m__init__\u001b[39;49m(\n\u001b[1;32m    105\u001b[0m         command_executor\u001b[39m=\u001b[39;49mChromiumRemoteConnection(\n\u001b[1;32m    106\u001b[0m             remote_server_addr\u001b[39m=\u001b[39;49m\u001b[39mself\u001b[39;49m\u001b[39m.\u001b[39;49mservice\u001b[39m.\u001b[39;49mservice_url,\n\u001b[1;32m    107\u001b[0m             browser_name\u001b[39m=\u001b[39;49mbrowser_name,\n\u001b[1;32m    108\u001b[0m             vendor_prefix\u001b[39m=\u001b[39;49mvendor_prefix,\n\u001b[1;32m    109\u001b[0m             keep_alive\u001b[39m=\u001b[39;49mkeep_alive,\n\u001b[1;32m    110\u001b[0m             ignore_proxy\u001b[39m=\u001b[39;49m_ignore_proxy,\n\u001b[1;32m    111\u001b[0m         ),\n\u001b[1;32m    112\u001b[0m         options\u001b[39m=\u001b[39;49moptions,\n\u001b[1;32m    113\u001b[0m     )\n\u001b[1;32m    114\u001b[0m \u001b[39mexcept\u001b[39;00m \u001b[39mException\u001b[39;00m:\n\u001b[1;32m    115\u001b[0m     \u001b[39mself\u001b[39m\u001b[39m.\u001b[39mquit()\n",
      "File \u001b[0;32m~/.pyenv/versions/3.8.13/lib/python3.8/site-packages/selenium/webdriver/remote/webdriver.py:286\u001b[0m, in \u001b[0;36mWebDriver.__init__\u001b[0;34m(self, command_executor, desired_capabilities, browser_profile, proxy, keep_alive, file_detector, options)\u001b[0m\n\u001b[1;32m    284\u001b[0m \u001b[39mself\u001b[39m\u001b[39m.\u001b[39m_authenticator_id \u001b[39m=\u001b[39m \u001b[39mNone\u001b[39;00m\n\u001b[1;32m    285\u001b[0m \u001b[39mself\u001b[39m\u001b[39m.\u001b[39mstart_client()\n\u001b[0;32m--> 286\u001b[0m \u001b[39mself\u001b[39;49m\u001b[39m.\u001b[39;49mstart_session(capabilities, browser_profile)\n",
      "File \u001b[0;32m~/.pyenv/versions/3.8.13/lib/python3.8/site-packages/selenium/webdriver/remote/webdriver.py:378\u001b[0m, in \u001b[0;36mWebDriver.start_session\u001b[0;34m(self, capabilities, browser_profile)\u001b[0m\n\u001b[1;32m    376\u001b[0m w3c_caps \u001b[39m=\u001b[39m _make_w3c_caps(capabilities)\n\u001b[1;32m    377\u001b[0m parameters \u001b[39m=\u001b[39m {\u001b[39m\"\u001b[39m\u001b[39mcapabilities\u001b[39m\u001b[39m\"\u001b[39m: w3c_caps}\n\u001b[0;32m--> 378\u001b[0m response \u001b[39m=\u001b[39m \u001b[39mself\u001b[39;49m\u001b[39m.\u001b[39;49mexecute(Command\u001b[39m.\u001b[39;49mNEW_SESSION, parameters)\n\u001b[1;32m    379\u001b[0m \u001b[39mif\u001b[39;00m \u001b[39m\"\u001b[39m\u001b[39msessionId\u001b[39m\u001b[39m\"\u001b[39m \u001b[39mnot\u001b[39;00m \u001b[39min\u001b[39;00m response:\n\u001b[1;32m    380\u001b[0m     response \u001b[39m=\u001b[39m response[\u001b[39m\"\u001b[39m\u001b[39mvalue\u001b[39m\u001b[39m\"\u001b[39m]\n",
      "File \u001b[0;32m~/.pyenv/versions/3.8.13/lib/python3.8/site-packages/selenium/webdriver/remote/webdriver.py:438\u001b[0m, in \u001b[0;36mWebDriver.execute\u001b[0;34m(self, driver_command, params)\u001b[0m\n\u001b[1;32m    435\u001b[0m     \u001b[39melif\u001b[39;00m \u001b[39m\"\u001b[39m\u001b[39msessionId\u001b[39m\u001b[39m\"\u001b[39m \u001b[39mnot\u001b[39;00m \u001b[39min\u001b[39;00m params:\n\u001b[1;32m    436\u001b[0m         params[\u001b[39m\"\u001b[39m\u001b[39msessionId\u001b[39m\u001b[39m\"\u001b[39m] \u001b[39m=\u001b[39m \u001b[39mself\u001b[39m\u001b[39m.\u001b[39msession_id\n\u001b[0;32m--> 438\u001b[0m response \u001b[39m=\u001b[39m \u001b[39mself\u001b[39;49m\u001b[39m.\u001b[39;49mcommand_executor\u001b[39m.\u001b[39;49mexecute(driver_command, params)\n\u001b[1;32m    439\u001b[0m \u001b[39mif\u001b[39;00m response:\n\u001b[1;32m    440\u001b[0m     \u001b[39mself\u001b[39m\u001b[39m.\u001b[39merror_handler\u001b[39m.\u001b[39mcheck_response(response)\n",
      "File \u001b[0;32m~/.pyenv/versions/3.8.13/lib/python3.8/site-packages/selenium/webdriver/remote/remote_connection.py:290\u001b[0m, in \u001b[0;36mRemoteConnection.execute\u001b[0;34m(self, command, params)\u001b[0m\n\u001b[1;32m    288\u001b[0m data \u001b[39m=\u001b[39m utils\u001b[39m.\u001b[39mdump_json(params)\n\u001b[1;32m    289\u001b[0m url \u001b[39m=\u001b[39m \u001b[39mf\u001b[39m\u001b[39m\"\u001b[39m\u001b[39m{\u001b[39;00m\u001b[39mself\u001b[39m\u001b[39m.\u001b[39m_url\u001b[39m}\u001b[39;00m\u001b[39m{\u001b[39;00mpath\u001b[39m}\u001b[39;00m\u001b[39m\"\u001b[39m\n\u001b[0;32m--> 290\u001b[0m \u001b[39mreturn\u001b[39;00m \u001b[39mself\u001b[39;49m\u001b[39m.\u001b[39;49m_request(command_info[\u001b[39m0\u001b[39;49m], url, body\u001b[39m=\u001b[39;49mdata)\n",
      "File \u001b[0;32m~/.pyenv/versions/3.8.13/lib/python3.8/site-packages/selenium/webdriver/remote/remote_connection.py:311\u001b[0m, in \u001b[0;36mRemoteConnection._request\u001b[0;34m(self, method, url, body)\u001b[0m\n\u001b[1;32m    308\u001b[0m     body \u001b[39m=\u001b[39m \u001b[39mNone\u001b[39;00m\n\u001b[1;32m    310\u001b[0m \u001b[39mif\u001b[39;00m \u001b[39mself\u001b[39m\u001b[39m.\u001b[39mkeep_alive:\n\u001b[0;32m--> 311\u001b[0m     response \u001b[39m=\u001b[39m \u001b[39mself\u001b[39;49m\u001b[39m.\u001b[39;49m_conn\u001b[39m.\u001b[39;49mrequest(method, url, body\u001b[39m=\u001b[39;49mbody, headers\u001b[39m=\u001b[39;49mheaders)\n\u001b[1;32m    312\u001b[0m     statuscode \u001b[39m=\u001b[39m response\u001b[39m.\u001b[39mstatus\n\u001b[1;32m    313\u001b[0m \u001b[39melse\u001b[39;00m:\n",
      "File \u001b[0;32m~/.pyenv/versions/3.8.13/lib/python3.8/site-packages/urllib3/request.py:78\u001b[0m, in \u001b[0;36mRequestMethods.request\u001b[0;34m(self, method, url, fields, headers, **urlopen_kw)\u001b[0m\n\u001b[1;32m     74\u001b[0m     \u001b[39mreturn\u001b[39;00m \u001b[39mself\u001b[39m\u001b[39m.\u001b[39mrequest_encode_url(\n\u001b[1;32m     75\u001b[0m         method, url, fields\u001b[39m=\u001b[39mfields, headers\u001b[39m=\u001b[39mheaders, \u001b[39m*\u001b[39m\u001b[39m*\u001b[39murlopen_kw\n\u001b[1;32m     76\u001b[0m     )\n\u001b[1;32m     77\u001b[0m \u001b[39melse\u001b[39;00m:\n\u001b[0;32m---> 78\u001b[0m     \u001b[39mreturn\u001b[39;00m \u001b[39mself\u001b[39;49m\u001b[39m.\u001b[39;49mrequest_encode_body(\n\u001b[1;32m     79\u001b[0m         method, url, fields\u001b[39m=\u001b[39;49mfields, headers\u001b[39m=\u001b[39;49mheaders, \u001b[39m*\u001b[39;49m\u001b[39m*\u001b[39;49murlopen_kw\n\u001b[1;32m     80\u001b[0m     )\n",
      "File \u001b[0;32m~/.pyenv/versions/3.8.13/lib/python3.8/site-packages/urllib3/request.py:170\u001b[0m, in \u001b[0;36mRequestMethods.request_encode_body\u001b[0;34m(self, method, url, fields, headers, encode_multipart, multipart_boundary, **urlopen_kw)\u001b[0m\n\u001b[1;32m    167\u001b[0m extra_kw[\u001b[39m\"\u001b[39m\u001b[39mheaders\u001b[39m\u001b[39m\"\u001b[39m]\u001b[39m.\u001b[39mupdate(headers)\n\u001b[1;32m    168\u001b[0m extra_kw\u001b[39m.\u001b[39mupdate(urlopen_kw)\n\u001b[0;32m--> 170\u001b[0m \u001b[39mreturn\u001b[39;00m \u001b[39mself\u001b[39;49m\u001b[39m.\u001b[39;49murlopen(method, url, \u001b[39m*\u001b[39;49m\u001b[39m*\u001b[39;49mextra_kw)\n",
      "File \u001b[0;32m~/.pyenv/versions/3.8.13/lib/python3.8/site-packages/urllib3/poolmanager.py:376\u001b[0m, in \u001b[0;36mPoolManager.urlopen\u001b[0;34m(self, method, url, redirect, **kw)\u001b[0m\n\u001b[1;32m    374\u001b[0m     response \u001b[39m=\u001b[39m conn\u001b[39m.\u001b[39murlopen(method, url, \u001b[39m*\u001b[39m\u001b[39m*\u001b[39mkw)\n\u001b[1;32m    375\u001b[0m \u001b[39melse\u001b[39;00m:\n\u001b[0;32m--> 376\u001b[0m     response \u001b[39m=\u001b[39m conn\u001b[39m.\u001b[39;49murlopen(method, u\u001b[39m.\u001b[39;49mrequest_uri, \u001b[39m*\u001b[39;49m\u001b[39m*\u001b[39;49mkw)\n\u001b[1;32m    378\u001b[0m redirect_location \u001b[39m=\u001b[39m redirect \u001b[39mand\u001b[39;00m response\u001b[39m.\u001b[39mget_redirect_location()\n\u001b[1;32m    379\u001b[0m \u001b[39mif\u001b[39;00m \u001b[39mnot\u001b[39;00m redirect_location:\n",
      "File \u001b[0;32m~/.pyenv/versions/3.8.13/lib/python3.8/site-packages/urllib3/connectionpool.py:714\u001b[0m, in \u001b[0;36mHTTPConnectionPool.urlopen\u001b[0;34m(self, method, url, body, headers, retries, redirect, assert_same_host, timeout, pool_timeout, release_conn, chunked, body_pos, **response_kw)\u001b[0m\n\u001b[1;32m    711\u001b[0m     \u001b[39mself\u001b[39m\u001b[39m.\u001b[39m_prepare_proxy(conn)\n\u001b[1;32m    713\u001b[0m \u001b[39m# Make the request on the httplib connection object.\u001b[39;00m\n\u001b[0;32m--> 714\u001b[0m httplib_response \u001b[39m=\u001b[39m \u001b[39mself\u001b[39;49m\u001b[39m.\u001b[39;49m_make_request(\n\u001b[1;32m    715\u001b[0m     conn,\n\u001b[1;32m    716\u001b[0m     method,\n\u001b[1;32m    717\u001b[0m     url,\n\u001b[1;32m    718\u001b[0m     timeout\u001b[39m=\u001b[39;49mtimeout_obj,\n\u001b[1;32m    719\u001b[0m     body\u001b[39m=\u001b[39;49mbody,\n\u001b[1;32m    720\u001b[0m     headers\u001b[39m=\u001b[39;49mheaders,\n\u001b[1;32m    721\u001b[0m     chunked\u001b[39m=\u001b[39;49mchunked,\n\u001b[1;32m    722\u001b[0m )\n\u001b[1;32m    724\u001b[0m \u001b[39m# If we're going to release the connection in ``finally:``, then\u001b[39;00m\n\u001b[1;32m    725\u001b[0m \u001b[39m# the response doesn't need to know about the connection. Otherwise\u001b[39;00m\n\u001b[1;32m    726\u001b[0m \u001b[39m# it will also try to release it and we'll have a double-release\u001b[39;00m\n\u001b[1;32m    727\u001b[0m \u001b[39m# mess.\u001b[39;00m\n\u001b[1;32m    728\u001b[0m response_conn \u001b[39m=\u001b[39m conn \u001b[39mif\u001b[39;00m \u001b[39mnot\u001b[39;00m release_conn \u001b[39melse\u001b[39;00m \u001b[39mNone\u001b[39;00m\n",
      "File \u001b[0;32m~/.pyenv/versions/3.8.13/lib/python3.8/site-packages/urllib3/connectionpool.py:466\u001b[0m, in \u001b[0;36mHTTPConnectionPool._make_request\u001b[0;34m(self, conn, method, url, timeout, chunked, **httplib_request_kw)\u001b[0m\n\u001b[1;32m    461\u001b[0m             httplib_response \u001b[39m=\u001b[39m conn\u001b[39m.\u001b[39mgetresponse()\n\u001b[1;32m    462\u001b[0m         \u001b[39mexcept\u001b[39;00m \u001b[39mBaseException\u001b[39;00m \u001b[39mas\u001b[39;00m e:\n\u001b[1;32m    463\u001b[0m             \u001b[39m# Remove the TypeError from the exception chain in\u001b[39;00m\n\u001b[1;32m    464\u001b[0m             \u001b[39m# Python 3 (including for exceptions like SystemExit).\u001b[39;00m\n\u001b[1;32m    465\u001b[0m             \u001b[39m# Otherwise it looks like a bug in the code.\u001b[39;00m\n\u001b[0;32m--> 466\u001b[0m             six\u001b[39m.\u001b[39;49mraise_from(e, \u001b[39mNone\u001b[39;49;00m)\n\u001b[1;32m    467\u001b[0m \u001b[39mexcept\u001b[39;00m (SocketTimeout, BaseSSLError, SocketError) \u001b[39mas\u001b[39;00m e:\n\u001b[1;32m    468\u001b[0m     \u001b[39mself\u001b[39m\u001b[39m.\u001b[39m_raise_timeout(err\u001b[39m=\u001b[39me, url\u001b[39m=\u001b[39murl, timeout_value\u001b[39m=\u001b[39mread_timeout)\n",
      "File \u001b[0;32m<string>:3\u001b[0m, in \u001b[0;36mraise_from\u001b[0;34m(value, from_value)\u001b[0m\n",
      "File \u001b[0;32m~/.pyenv/versions/3.8.13/lib/python3.8/site-packages/urllib3/connectionpool.py:461\u001b[0m, in \u001b[0;36mHTTPConnectionPool._make_request\u001b[0;34m(self, conn, method, url, timeout, chunked, **httplib_request_kw)\u001b[0m\n\u001b[1;32m    458\u001b[0m \u001b[39mexcept\u001b[39;00m \u001b[39mTypeError\u001b[39;00m:\n\u001b[1;32m    459\u001b[0m     \u001b[39m# Python 3\u001b[39;00m\n\u001b[1;32m    460\u001b[0m     \u001b[39mtry\u001b[39;00m:\n\u001b[0;32m--> 461\u001b[0m         httplib_response \u001b[39m=\u001b[39m conn\u001b[39m.\u001b[39;49mgetresponse()\n\u001b[1;32m    462\u001b[0m     \u001b[39mexcept\u001b[39;00m \u001b[39mBaseException\u001b[39;00m \u001b[39mas\u001b[39;00m e:\n\u001b[1;32m    463\u001b[0m         \u001b[39m# Remove the TypeError from the exception chain in\u001b[39;00m\n\u001b[1;32m    464\u001b[0m         \u001b[39m# Python 3 (including for exceptions like SystemExit).\u001b[39;00m\n\u001b[1;32m    465\u001b[0m         \u001b[39m# Otherwise it looks like a bug in the code.\u001b[39;00m\n\u001b[1;32m    466\u001b[0m         six\u001b[39m.\u001b[39mraise_from(e, \u001b[39mNone\u001b[39;00m)\n",
      "File \u001b[0;32m~/.pyenv/versions/3.8.13/lib/python3.8/http/client.py:1348\u001b[0m, in \u001b[0;36mHTTPConnection.getresponse\u001b[0;34m(self)\u001b[0m\n\u001b[1;32m   1346\u001b[0m \u001b[39mtry\u001b[39;00m:\n\u001b[1;32m   1347\u001b[0m     \u001b[39mtry\u001b[39;00m:\n\u001b[0;32m-> 1348\u001b[0m         response\u001b[39m.\u001b[39;49mbegin()\n\u001b[1;32m   1349\u001b[0m     \u001b[39mexcept\u001b[39;00m \u001b[39mConnectionError\u001b[39;00m:\n\u001b[1;32m   1350\u001b[0m         \u001b[39mself\u001b[39m\u001b[39m.\u001b[39mclose()\n",
      "File \u001b[0;32m~/.pyenv/versions/3.8.13/lib/python3.8/http/client.py:316\u001b[0m, in \u001b[0;36mHTTPResponse.begin\u001b[0;34m(self)\u001b[0m\n\u001b[1;32m    314\u001b[0m \u001b[39m# read until we get a non-100 response\u001b[39;00m\n\u001b[1;32m    315\u001b[0m \u001b[39mwhile\u001b[39;00m \u001b[39mTrue\u001b[39;00m:\n\u001b[0;32m--> 316\u001b[0m     version, status, reason \u001b[39m=\u001b[39m \u001b[39mself\u001b[39;49m\u001b[39m.\u001b[39;49m_read_status()\n\u001b[1;32m    317\u001b[0m     \u001b[39mif\u001b[39;00m status \u001b[39m!=\u001b[39m CONTINUE:\n\u001b[1;32m    318\u001b[0m         \u001b[39mbreak\u001b[39;00m\n",
      "File \u001b[0;32m~/.pyenv/versions/3.8.13/lib/python3.8/http/client.py:277\u001b[0m, in \u001b[0;36mHTTPResponse._read_status\u001b[0;34m(self)\u001b[0m\n\u001b[1;32m    276\u001b[0m \u001b[39mdef\u001b[39;00m \u001b[39m_read_status\u001b[39m(\u001b[39mself\u001b[39m):\n\u001b[0;32m--> 277\u001b[0m     line \u001b[39m=\u001b[39m \u001b[39mstr\u001b[39m(\u001b[39mself\u001b[39;49m\u001b[39m.\u001b[39;49mfp\u001b[39m.\u001b[39;49mreadline(_MAXLINE \u001b[39m+\u001b[39;49m \u001b[39m1\u001b[39;49m), \u001b[39m\"\u001b[39m\u001b[39miso-8859-1\u001b[39m\u001b[39m\"\u001b[39m)\n\u001b[1;32m    278\u001b[0m     \u001b[39mif\u001b[39;00m \u001b[39mlen\u001b[39m(line) \u001b[39m>\u001b[39m _MAXLINE:\n\u001b[1;32m    279\u001b[0m         \u001b[39mraise\u001b[39;00m LineTooLong(\u001b[39m\"\u001b[39m\u001b[39mstatus line\u001b[39m\u001b[39m\"\u001b[39m)\n",
      "File \u001b[0;32m~/.pyenv/versions/3.8.13/lib/python3.8/socket.py:669\u001b[0m, in \u001b[0;36mSocketIO.readinto\u001b[0;34m(self, b)\u001b[0m\n\u001b[1;32m    667\u001b[0m \u001b[39mwhile\u001b[39;00m \u001b[39mTrue\u001b[39;00m:\n\u001b[1;32m    668\u001b[0m     \u001b[39mtry\u001b[39;00m:\n\u001b[0;32m--> 669\u001b[0m         \u001b[39mreturn\u001b[39;00m \u001b[39mself\u001b[39;49m\u001b[39m.\u001b[39;49m_sock\u001b[39m.\u001b[39;49mrecv_into(b)\n\u001b[1;32m    670\u001b[0m     \u001b[39mexcept\u001b[39;00m timeout:\n\u001b[1;32m    671\u001b[0m         \u001b[39mself\u001b[39m\u001b[39m.\u001b[39m_timeout_occurred \u001b[39m=\u001b[39m \u001b[39mTrue\u001b[39;00m\n",
      "\u001b[0;31mKeyboardInterrupt\u001b[0m: "
     ]
    }
   ],
   "source": [
    "import undetected_chromedriver as uc\n",
    "import time\n",
    "chrome_options = uc.ChromeOptions()\n",
    "chrome_options.add_argument(\"--disable-popup-blocking\")\n",
    "chrome_options.add_argument('--ignore-certificate-errors')\n",
    "\n",
    "\n",
    "driver = uc.Chrome(options=chrome_options)\n",
    "\n",
    "url = 'https://nowsecure.nl/'\n",
    "driver.get(url)\n",
    "time.sleep(10)\n",
    "driver.execute_script(f\"window.open('{url}', '_blank')\")\n",
    "input()\n"
   ]
  },
  {
   "cell_type": "code",
   "execution_count": 150,
   "metadata": {},
   "outputs": [
    {
     "name": "stdout",
     "output_type": "stream",
     "text": [
      "https://pubsonline.informs.org/doi/abs/10.1287/isre.2021.eb.v32n3\n"
     ]
    }
   ],
   "source": [
    "for i in element:\n",
    "    title = i.find_element_by_xpath('.//h5[@class=\\'issue-item__title\\']/a')\n",
    "link = title.get_attribute(\"href\")\n",
    "name = title.get_attribute(\"innerHTML\")\n",
    "print(link)\n"
   ]
  },
  {
   "cell_type": "code",
   "execution_count": 151,
   "metadata": {},
   "outputs": [
    {
     "name": "stdout",
     "output_type": "stream",
     "text": [
      "https://pubsonline.informs.org/doi/pdf/10.1287/isre.2021.eb.v32n3\n"
     ]
    }
   ],
   "source": [
    "\n",
    "wd.get(link)\n",
    "a = wd.find_elements_by_xpath('//div[@class=\\'download_transportable cloned hidden-xs hidden-sm hidden-md\\']/a')\n",
    "print(a[0].get_attribute('href'))"
   ]
  },
  {
   "cell_type": "code",
   "execution_count": 157,
   "metadata": {},
   "outputs": [],
   "source": [
    "import os,glob,time\n",
    "\n",
    "base_folder = \"C:\\\\Users\\\\mouyu\\\\Desktop\\\\test\"\n",
    "\n",
    "wd.get('https://pubsonline.informs.org/doi/pdf/10.1287/isre.2021.eb.v32n3')\n",
    "time.sleep(2)\n",
    "folder = glob.glob(os.path.join(base_folder,\"*\"))\n",
    "latest_file = max(folder, key=os.path.getctime)\n",
    "os.rename(latest_file,os.path.join(base_folder, name+\".pdf\"))"
   ]
  },
  {
   "cell_type": "code",
   "execution_count": 155,
   "metadata": {},
   "outputs": [
    {
     "name": "stdout",
     "output_type": "stream",
     "text": [
      "C:\\Users\\mouyu\\Desktop\\test\\isre.2021.eb.v32n3 (5).pdf\n"
     ]
    }
   ],
   "source": [
    "print(latest_file)"
   ]
  },
  {
   "cell_type": "markdown",
   "metadata": {},
   "source": [
    "For keyword search"
   ]
  },
  {
   "cell_type": "code",
   "execution_count": 46,
   "metadata": {},
   "outputs": [
    {
     "name": "stdout",
     "output_type": "stream",
     "text": [
      "https://pubsonline.informs.org/doi/10.1287/mnsc.2020.3788\n",
      "https://pubsonline.informs.org/doi/10.1287/mnsc.2016.2596\n",
      "https://pubsonline.informs.org/doi/10.1287/msom.2017.0669\n",
      "https://pubsonline.informs.org/doi/10.1287/mnsc.2017.2742\n",
      "https://pubsonline.informs.org/doi/10.1287/mnsc.2017.2935\n",
      "https://pubsonline.informs.org/doi/10.1287/mnsc.2016.2604\n",
      "https://pubsonline.informs.org/doi/10.1287/mnsc.2018.3128\n",
      "https://pubsonline.informs.org/doi/10.1287/mnsc.2018.3251\n",
      "https://pubsonline.informs.org/doi/10.1287/mnsc.2018.3165\n",
      "https://pubsonline.informs.org/doi/10.1287/mnsc.2017.2921\n",
      "https://pubsonline.informs.org/doi/10.1287/mnsc.2016.2615\n",
      "https://pubsonline.informs.org/doi/10.1287/mnsc.2018.3141\n",
      "https://pubsonline.informs.org/doi/10.1287/mnsc.2020.3753\n",
      "https://pubsonline.informs.org/doi/10.1287/mnsc.2019.3560\n",
      "https://pubsonline.informs.org/doi/10.1287/mnsc.2019.3440\n",
      "https://pubsonline.informs.org/doi/10.1287/mnsc.2018.3179\n",
      "https://pubsonline.informs.org/doi/10.1287/stsy.2017.0007\n",
      "https://pubsonline.informs.org/doi/10.1287/mnsc.2020.3947\n",
      "https://pubsonline.informs.org/doi/10.1287/mnsc.2021.4079\n",
      "https://pubsonline.informs.org/doi/10.1287/mnsc.2019.3438\n",
      "https://pubsonline.informs.org/doi/10.1287/mnsc.2017.3007\n",
      "https://pubsonline.informs.org/doi/10.1287/mnsc.2018.3276\n",
      "https://pubsonline.informs.org/doi/10.1287/mnsc.2017.2827\n",
      "https://pubsonline.informs.org/doi/10.1287/mnsc.2017.2815\n",
      "https://pubsonline.informs.org/doi/10.1287/mnsc.2017.2876\n",
      "https://pubsonline.informs.org/doi/10.1287/mnsc.2020.3787\n",
      "https://pubsonline.informs.org/doi/10.1287/mnsc.2019.3316\n",
      "https://pubsonline.informs.org/doi/10.1287/mnsc.2019.3329\n",
      "https://pubsonline.informs.org/doi/10.1287/mnsc.2018.3081\n",
      "https://pubsonline.informs.org/doi/10.1287/mnsc.2021.4053\n",
      "https://pubsonline.informs.org/doi/10.1287/mnsc.2018.3096\n",
      "https://pubsonline.informs.org/doi/10.1287/mnsc.2020.3774\n",
      "https://pubsonline.informs.org/doi/10.1287/orsc.2017.1186\n",
      "https://pubsonline.informs.org/doi/10.1287/mnsc.2020.3737\n",
      "https://pubsonline.informs.org/doi/10.1287/orsc.2019.1312\n",
      "https://pubsonline.informs.org/doi/10.1287/mnsc.2019.3422\n",
      "https://pubsonline.informs.org/doi/10.1287/mnsc.2020.3687\n",
      "https://pubsonline.informs.org/doi/10.1287/mnsc.2017.2975\n",
      "https://pubsonline.informs.org/doi/10.1287/mnsc.2018.3222\n",
      "https://pubsonline.informs.org/doi/10.1287/mnsc.2020.3780\n",
      "https://pubsonline.informs.org/doi/10.1287/mnsc.2021.3965\n",
      "https://pubsonline.informs.org/doi/10.1287/mnsc.2021.4115\n",
      "https://pubsonline.informs.org/doi/10.1287/isre.2020.0967\n",
      "https://pubsonline.informs.org/doi/10.1287/mnsc.2019.3378\n",
      "https://pubsonline.informs.org/doi/10.1287/mnsc.2016.2690\n",
      "https://pubsonline.informs.org/doi/10.1287/mnsc.2018.3156\n",
      "https://pubsonline.informs.org/doi/10.1287/mnsc.2021.3996\n",
      "https://pubsonline.informs.org/doi/10.1287/mnsc.2017.3011\n",
      "https://pubsonline.informs.org/doi/10.1287/mnsc.2021.4074\n",
      "https://pubsonline.informs.org/doi/10.1287/mnsc.2018.3041\n",
      "https://pubsonline.informs.org/doi/10.1287/mnsc.2017.2811\n",
      "https://pubsonline.informs.org/doi/10.1287/mnsc.2019.3347\n",
      "https://pubsonline.informs.org/doi/10.1287/mnsc.2016.2573\n",
      "https://pubsonline.informs.org/doi/10.1287/mnsc.2016.2706\n",
      "https://pubsonline.informs.org/doi/10.1287/isre.2019.0909\n",
      "https://pubsonline.informs.org/doi/10.1287/mnsc.2019.3525\n",
      "https://pubsonline.informs.org/doi/10.1287/opre.2019.1952\n",
      "https://pubsonline.informs.org/doi/10.1287/orsc.2021.1458\n",
      "https://pubsonline.informs.org/doi/10.1287/mnsc.2018.3110\n",
      "https://pubsonline.informs.org/doi/10.1287/mnsc.2016.2627\n",
      "https://pubsonline.informs.org/doi/10.1287/mnsc.2021.3974\n",
      "https://pubsonline.informs.org/doi/10.1287/mnsc.2021.4018\n",
      "https://pubsonline.informs.org/doi/10.1287/ijoc.2019.0892\n",
      "https://pubsonline.informs.org/doi/10.1287/ijoc.2020.0977\n",
      "https://pubsonline.informs.org/doi/10.1287/mnsc.2017.2898\n",
      "https://pubsonline.informs.org/doi/10.1287/mnsc.2021.4045\n",
      "https://pubsonline.informs.org/doi/10.1287/mnsc.2017.3009\n",
      "https://pubsonline.informs.org/doi/10.1287/mnsc.2019.3326\n",
      "https://pubsonline.informs.org/doi/10.1287/mnsc.2019.3338\n",
      "https://pubsonline.informs.org/doi/10.1287/mnsc.2019.3539\n",
      "https://pubsonline.informs.org/doi/10.1287/mnsc.2017.2751\n",
      "https://pubsonline.informs.org/doi/10.1287/mnsc.2017.3021\n",
      "https://pubsonline.informs.org/doi/10.1287/mnsc.2019.3473\n",
      "https://pubsonline.informs.org/doi/10.1287/mnsc.2021.4019\n",
      "https://pubsonline.informs.org/doi/10.1287/mnsc.2017.2768\n",
      "https://pubsonline.informs.org/doi/10.1287/mnsc.2018.3094\n",
      "https://pubsonline.informs.org/doi/10.1287/mnsc.2019.3370\n",
      "https://pubsonline.informs.org/doi/10.1287/mnsc.2019.3433\n",
      "https://pubsonline.informs.org/doi/10.1287/stsc.2018.0059\n",
      "https://pubsonline.informs.org/doi/10.1287/mnsc.2020.3816\n",
      "https://pubsonline.informs.org/doi/10.1287/mnsc.2017.2995\n",
      "https://pubsonline.informs.org/doi/10.1287/mnsc.2020.3587\n",
      "https://pubsonline.informs.org/doi/10.1287/mnsc.2020.3590\n",
      "https://pubsonline.informs.org/doi/10.1287/mnsc.2021.4082\n",
      "https://pubsonline.informs.org/doi/10.1287/mnsc.2020.3626\n"
     ]
    }
   ],
   "source": [
    "import os,glob,time,random\n",
    "base_folder = \"C:\\\\Users\\\\mouyu\\\\Desktop\\\\INFORMS Journal\"\n",
    "\n",
    "\n",
    "wd.get(\"https://pubsonline.informs.org/action/doSearch?field1=AllField&text1=%22credit+rating%22&field2=AllField&text2=&field3=AllField&text3=&publication=&Ppub=&AfterYear=2018&BeforeYear=2021&ContentItemType=research-article&startPage=0&pageSize=100\")\n",
    "results = wd.find_element_by_class_name(\"item__body\")\n",
    "result = results.find_elements_by_xpath(\"//h5[@class='hlFld-Title meta__title meta__title__margin']/a\")\n",
    "for i in result:\n",
    "    print(i.get_attribute(\"href\"))\n",
    "    link = i.get_attribute(\"href\")\n",
    "    name = i.get_attribute(\"innerHTML\")\n",
    "    time.sleep(random.randint(3,5))\n",
    "    wd2.get(link)\n",
    "    a = wd2.find_elements_by_xpath('//div[@class=\\'download_transportable cloned hidden-xs hidden-sm hidden-md\\']/a')\n",
    "    time.sleep(random.randint(3,5))\n",
    "    wd2.get(a[0].get_attribute('href'))\n",
    "    time.sleep(10)\n",
    "    folder = glob.glob(os.path.join(base_folder,\"*\"))\n",
    "    latest_file = max(folder, key=os.path.getctime)\n",
    "\n",
    "    bad_letter =['/','\\\\',':','*','?','\\\"','<','>','|']\n",
    "    for aa in bad_letter:\n",
    "        name = name.replace(aa,',')\n",
    "\n",
    "    os.rename(latest_file,os.path.join(latest_file[:-4]+ \"_\"+ name+\".pdf\"))\n",
    "\n"
   ]
  },
  {
   "cell_type": "code",
   "execution_count": 33,
   "metadata": {},
   "outputs": [],
   "source": [
    "wd2.get(link[0].get_attribute(\"href\"))\n",
    "name = link[0].get_attribute(\"innerHTML\")\n",
    "a = wd2.find_elements_by_xpath('//div[@class=\\'download_transportable cloned hidden-xs hidden-sm hidden-md\\']/a')\n",
    "import os,glob,time\n",
    "\n",
    "base_folder = \"C:\\\\Users\\\\mouyu\\\\Desktop\\\\INFORMS Journal\"\n",
    "\n",
    "wd2.get(a[0].get_attribute('href'))\n",
    "time.sleep(5)\n",
    "folder = glob.glob(os.path.join(base_folder,\"*\"))\n",
    "latest_file = max(folder, key=os.path.getctime)\n",
    "\n",
    "bad_letter =['/','\\\\',':','*','?','\\\"','<','>','|']\n",
    "for aa in bad_letter:\n",
    "    name = name.replace(aa,',')\n",
    "\n",
    "os.rename(latest_file,os.path.join(latest_file[:-4]+ \"_\"+ name+\".pdf\"))"
   ]
  }
 ],
 "metadata": {
  "kernelspec": {
   "display_name": "Python 3",
   "language": "python",
   "name": "python3"
  },
  "language_info": {
   "codemirror_mode": {
    "name": "ipython",
    "version": 3
   },
   "file_extension": ".py",
   "mimetype": "text/x-python",
   "name": "python",
   "nbconvert_exporter": "python",
   "pygments_lexer": "ipython3",
   "version": "3.8.13"
  },
  "orig_nbformat": 4,
  "vscode": {
   "interpreter": {
    "hash": "ae9660db38ac8643b5abe3ade23e36bb7e77026bbf1f37e511afc8ce3b66621b"
   }
  }
 },
 "nbformat": 4,
 "nbformat_minor": 2
}
